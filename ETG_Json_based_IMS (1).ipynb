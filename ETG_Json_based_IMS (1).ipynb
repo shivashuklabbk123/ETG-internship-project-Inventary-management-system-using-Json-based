{
  "nbformat": 4,
  "nbformat_minor": 0,
  "metadata": {
    "colab": {
      "name": "ETG Json based IMS.ipynb",
      "provenance": []
    },
    "kernelspec": {
      "name": "python3",
      "display_name": "Python 3"
    },
    "language_info": {
      "name": "python"
    }
  },
  "cells": [
    {
      "cell_type": "markdown",
      "metadata": {
        "id": "0hOII0myFRH0"
      },
      "source": [
        "# **ETG Internship task#1**"
      ]
    },
    {
      "cell_type": "code",
      "metadata": {
        "id": "qsqjVqdidiIG"
      },
      "source": [
        "record = {1001:{\"product\":\"cake\",\"Price\": 250, \"quantity\": 45, \"discount\": 5, \"expiry date\": \"20/JUNE/22\"},\n",
        "          1002:{\"product\":\"Munch\",\"Price\": 15, \"quantity\": 40, \"discount\": 3, \"expiry date\": \"20/JUNE/23\"},\n",
        "          1003:{\"product\":\"cocola\",\"Price\": 75, \"quantity\": 40, \"discount\": 6 , \"expiry date\": \"20/JULY/23\"},\n",
        "          1004:{\"product\":\"Fanta\",\"Price\": 65, \"quantity\": 40, \"discount\": 5, \"expiry date\": \"20/AUGUST/23\" },\n",
        "          1005:{\"product\":\"Pepsi\",\"Price\": 85, \"quantity\": 40, \"discount\": 4, \"expiry date\": \"20/NOVEMBER/23\" },\n",
        "          1006:{\"product\":\"Biscuit\",\"Price\": 30, \"quantity\": 40, \"discount\": 5, \"expiry date\": \"20/DECEMBER/24\" },\n",
        "          1007:{\"product\":\"Namkeen\",\"Price\": 40, \"quantity\": 40, \"discount\": 5, \"expiry date\": \"20/JANUARY/24\" },\n",
        "          1008:{\"product\":\"Shirt\",\"Price\": 500, \"quantity\": 40, \"discount\": 10, \"expiry date\": \"20/MARCH/24 \"},\n",
        "          1009:{\"product\":\"T-shirt\",\"Price\": 320, \"quantity\": 40, \"discount\": 5, \"expiry date\": \"20/SEPTEMBER/24\" },\n",
        "          1010:{\"product\":\"cold-Water\",\"Price\": 25, \"quantity\": 40, \"discount\": 5, \"expiry date\": \"20/OCTOBER/24\" },\n",
        "          1011:{\"product\":\"Dew\",\"Price\": 85, \"quantity\": 40, \"discount\": 2, \"expiry date\": \"30/JUNE/24\"},\n",
        "          1012:{\"product\":\"Maza\",\"Price\": 95, \"quantity\": 40, \"discount\": 15, \"expiry date\": \"20/JULY/24 \"},\n",
        "          1013:{\"product\":\"Men's Jeans\",\"Price\": 750, \"quantity\": 80, \"discount\": 20, \"expiry date\": \"20/AUGUST/24 \"},\n",
        "          1014:{\"product\":\"Ladies-Jeans\",\"Price\": 850, \"quantity\": 80, \"discount\": 20, \"expiry date\": \"20/FEBRUARY/22 \"},\n",
        "          1015:{\"product\":\"Kurta\",\"Price\": 420, \"quantity\": 70, \"discount\": 10, \"expiry date\": \"18/DECEMBER/28 \"},\n",
        "          1016:{\"product\":\"Cap\",\"Price\": 150, \"quantity\": 45, \"discount\": 3, \"expiry date\": \"20/OCTOBER/28\" },\n",
        "          1017:{\"product\":\"Sleeper\",\"Price\": 150, \"quantity\": 40, \"discount\": 5, \"expiry date\": \"20/JULY/29\" },\n",
        "          1018:{\"product\":\"Table\",\"Price\": 2000, \"quantity\": 25, \"discount\": 10, \"expiry date\": \"20/JUNE/29\" },\n",
        "          1019:{\"product\":\"Chair\",\"Price\": 500, \"quantity\": 30, \"discount\": 10, \"expiry date\": \"20/APRIL/29\" },\n",
        "          1020:{\"product\":\"Almirah\",\"Price\": 5500, \"quantity\": 30, \"discount\": 10, \"expiry date\": \"20/SEPTEMBER/30\" },\n",
        "          1021:{\"product\":\"Keyboard\",\"Price\": 550, \"quantity\": 70, \"discount\": 5, \"expiry date\": \"20/OCTOBER/30 \"},\n",
        "          1022:{\"product\":\"Mouse\",\"Price\": 250, \"quantity\": 70, \"discount\": 10, \"expiry date\": \"20/NOVEMBER/25 \"},\n",
        "          1023:{\"product\":\"Laptop\",\"Price\": 56000, \"quantity\": 20, \"discount\": 20, \"expiry date\": \"20/JULY/30\"},\n",
        "          1024:{\"product\":\"Desktop\",\"Price\": 25000, \"quantity\": 20, \"discount\": 10, \"expiry date\": \"20/JUNE/28\" },\n",
        "          1025:{\"product\":\"Bottle\",\"Price\": 250, \"quantity\": 40, \"discount\": 3, \"expiry date\": \"20/APRIL/24\" },\n",
        "          1026:{\"product\":\"Cooler\",\"Price\": 8000, \"quantity\": 28, \"discount\": 20, \"expiry date\": \"20/MARCH/25\" },\n",
        "          1027:{\"product\":\"AC\",\"Price\": 25000, \"quantity\": 30, \"discount\": 10, \"expiry date\": \"20/FEBRUARY/31\" },\n",
        "          1028:{\"product\":\"Bag\",\"Price\": 1500, \"quantity\": 40, \"discount\": 10, \"expiry date\": \"20/JULY/29 \"},\n",
        "          1029:{\"product\":\"Fan\",\"Price\": 2400, \"quantity\": 20, \"discount\": 10, \"expiry date\": \"20/DECEMBER/30\" },\n",
        "          1030:{\"product\":\"Fridge\",\"Price\": 20000, \"quantity\": 15, \"discount\": 10, \"expiry date\": \"20/DECEMBER/30\" }}\n"
      ],
      "execution_count": null,
      "outputs": []
    },
    {
      "cell_type": "markdown",
      "metadata": {
        "id": "56VFkb3OEjPG"
      },
      "source": [
        "\n",
        "\n",
        "*"
      ]
    },
    {
      "cell_type": "code",
      "metadata": {
        "id": "qkiXo0PTodJQ",
        "colab": {
          "base_uri": "https://localhost:8080/"
        },
        "outputId": "8f29b2a3-5300-4a3d-a01d-c65667d10dd7"
      },
      "source": [
        "record"
      ],
      "execution_count": null,
      "outputs": [
        {
          "output_type": "execute_result",
          "data": {
            "text/plain": [
              "{1001: {'Price': 250,\n",
              "  'discount': 5,\n",
              "  'expiry date': '20/JUNE/22',\n",
              "  'product': 'cake',\n",
              "  'quantity': 45},\n",
              " 1002: {'Price': 15,\n",
              "  'discount': 3,\n",
              "  'expiry date': '20/JUNE/23',\n",
              "  'product': 'Munch',\n",
              "  'quantity': 40},\n",
              " 1003: {'Price': 75,\n",
              "  'discount': 6,\n",
              "  'expiry date': '20/JULY/23',\n",
              "  'product': 'cocola',\n",
              "  'quantity': 40},\n",
              " 1004: {'Price': 65,\n",
              "  'discount': 5,\n",
              "  'expiry date': '20/AUGUST/23',\n",
              "  'product': 'Fanta',\n",
              "  'quantity': 40},\n",
              " 1005: {'Price': 85,\n",
              "  'discount': 4,\n",
              "  'expiry date': '20/NOVEMBER/23',\n",
              "  'product': 'Pepsi',\n",
              "  'quantity': 40},\n",
              " 1006: {'Price': 30,\n",
              "  'discount': 5,\n",
              "  'expiry date': '20/DECEMBER/24',\n",
              "  'product': 'Biscuit',\n",
              "  'quantity': 40},\n",
              " 1007: {'Price': 40,\n",
              "  'discount': 5,\n",
              "  'expiry date': '20/JANUARY/24',\n",
              "  'product': 'Namkeen',\n",
              "  'quantity': 40},\n",
              " 1008: {'Price': 500,\n",
              "  'discount': 10,\n",
              "  'expiry date': '20/MARCH/24 ',\n",
              "  'product': 'Shirt',\n",
              "  'quantity': 40},\n",
              " 1009: {'Price': 320,\n",
              "  'discount': 5,\n",
              "  'expiry date': '20/SEPTEMBER/24',\n",
              "  'product': 'T-shirt',\n",
              "  'quantity': 40},\n",
              " 1010: {'Price': 25,\n",
              "  'discount': 5,\n",
              "  'expiry date': '20/OCTOBER/24',\n",
              "  'product': 'cold-Water',\n",
              "  'quantity': 40},\n",
              " 1011: {'Price': 85,\n",
              "  'discount': 2,\n",
              "  'expiry date': '30/JUNE/24',\n",
              "  'product': 'Dew',\n",
              "  'quantity': 40},\n",
              " 1012: {'Price': 95,\n",
              "  'discount': 15,\n",
              "  'expiry date': '20/JULY/24 ',\n",
              "  'product': 'Maza',\n",
              "  'quantity': 40},\n",
              " 1013: {'Price': 750,\n",
              "  'discount': 20,\n",
              "  'expiry date': '20/AUGUST/24 ',\n",
              "  'product': \"Men's Jeans\",\n",
              "  'quantity': 80},\n",
              " 1014: {'Price': 850,\n",
              "  'discount': 20,\n",
              "  'expiry date': '20/FEBRUARY/22 ',\n",
              "  'product': 'Ladies-Jeans',\n",
              "  'quantity': 80},\n",
              " 1015: {'Price': 420,\n",
              "  'discount': 10,\n",
              "  'expiry date': '18/DECEMBER/28 ',\n",
              "  'product': 'Kurta',\n",
              "  'quantity': 70},\n",
              " 1016: {'Price': 150,\n",
              "  'discount': 3,\n",
              "  'expiry date': '20/OCTOBER/28',\n",
              "  'product': 'Cap',\n",
              "  'quantity': 45},\n",
              " 1017: {'Price': 150,\n",
              "  'discount': 5,\n",
              "  'expiry date': '20/JULY/29',\n",
              "  'product': 'Sleeper',\n",
              "  'quantity': 40},\n",
              " 1018: {'Price': 2000,\n",
              "  'discount': 10,\n",
              "  'expiry date': '20/JUNE/29',\n",
              "  'product': 'Table',\n",
              "  'quantity': 25},\n",
              " 1019: {'Price': 500,\n",
              "  'discount': 10,\n",
              "  'expiry date': '20/APRIL/29',\n",
              "  'product': 'Chair',\n",
              "  'quantity': 30},\n",
              " 1020: {'Price': 5500,\n",
              "  'discount': 10,\n",
              "  'expiry date': '20/SEPTEMBER/30',\n",
              "  'product': 'Almirah',\n",
              "  'quantity': 30},\n",
              " 1021: {'Price': 550,\n",
              "  'discount': 5,\n",
              "  'expiry date': '20/OCTOBER/30 ',\n",
              "  'product': 'Keyboard',\n",
              "  'quantity': 70},\n",
              " 1022: {'Price': 250,\n",
              "  'discount': 10,\n",
              "  'expiry date': '20/NOVEMBER/25 ',\n",
              "  'product': 'Mouse',\n",
              "  'quantity': 70},\n",
              " 1023: {'Price': 56000,\n",
              "  'discount': 20,\n",
              "  'expiry date': '20/JULY/30',\n",
              "  'product': 'Laptop',\n",
              "  'quantity': 20},\n",
              " 1024: {'Price': 25000,\n",
              "  'discount': 10,\n",
              "  'expiry date': '20/JUNE/28',\n",
              "  'product': 'Desktop',\n",
              "  'quantity': 20},\n",
              " 1025: {'Price': 250,\n",
              "  'discount': 3,\n",
              "  'expiry date': '20/APRIL/24',\n",
              "  'product': 'Bottle',\n",
              "  'quantity': 40},\n",
              " 1026: {'Price': 8000,\n",
              "  'discount': 20,\n",
              "  'expiry date': '20/MARCH/25',\n",
              "  'product': 'Cooler',\n",
              "  'quantity': 28},\n",
              " 1027: {'Price': 25000,\n",
              "  'discount': 10,\n",
              "  'expiry date': '20/FEBRUARY/31',\n",
              "  'product': 'AC',\n",
              "  'quantity': 30},\n",
              " 1028: {'Price': 1500,\n",
              "  'discount': 10,\n",
              "  'expiry date': '20/JULY/29 ',\n",
              "  'product': 'Bag',\n",
              "  'quantity': 40},\n",
              " 1029: {'Price': 2400,\n",
              "  'discount': 10,\n",
              "  'expiry date': '20/DECEMBER/30',\n",
              "  'product': 'Fan',\n",
              "  'quantity': 20},\n",
              " 1030: {'Price': 20000,\n",
              "  'discount': 10,\n",
              "  'expiry date': '20/DECEMBER/30',\n",
              "  'product': 'Fridge',\n",
              "  'quantity': 15}}"
            ]
          },
          "metadata": {},
          "execution_count": 58
        }
      ]
    },
    {
      "cell_type": "code",
      "metadata": {
        "colab": {
          "base_uri": "https://localhost:8080/"
        },
        "id": "mWApchZrp6M2",
        "outputId": "df61ceb3-ba53-43fc-fd49-fd76f4dabcdb"
      },
      "source": [
        "record[1015]"
      ],
      "execution_count": null,
      "outputs": [
        {
          "output_type": "execute_result",
          "data": {
            "text/plain": [
              "{'Price': 420,\n",
              " 'discount': 10,\n",
              " 'expiry date': '18/DECEMBER/28 ',\n",
              " 'product': 'Kurta',\n",
              " 'quantity': 70}"
            ]
          },
          "metadata": {},
          "execution_count": 59
        }
      ]
    },
    {
      "cell_type": "code",
      "metadata": {
        "colab": {
          "base_uri": "https://localhost:8080/",
          "height": 35
        },
        "id": "q6W1ezeAqVOT",
        "outputId": "beb83d1b-5fb4-4c8c-8737-4db0ee682d54"
      },
      "source": [
        "record[1016]['product']"
      ],
      "execution_count": null,
      "outputs": [
        {
          "output_type": "execute_result",
          "data": {
            "application/vnd.google.colaboratory.intrinsic+json": {
              "type": "string"
            },
            "text/plain": [
              "'Cap'"
            ]
          },
          "metadata": {},
          "execution_count": 60
        }
      ]
    },
    {
      "cell_type": "code",
      "metadata": {
        "id": "oGtgEG7yqcnL"
      },
      "source": [
        "record[1015]['Price']=500"
      ],
      "execution_count": null,
      "outputs": []
    },
    {
      "cell_type": "code",
      "metadata": {
        "colab": {
          "base_uri": "https://localhost:8080/"
        },
        "id": "nmJyDVkpqspZ",
        "outputId": "8babf77f-9d60-46ba-fe21-1bbd5be5d329"
      },
      "source": [
        "record"
      ],
      "execution_count": null,
      "outputs": [
        {
          "output_type": "execute_result",
          "data": {
            "text/plain": [
              "{1001: {'Price': 250,\n",
              "  'discount': 5,\n",
              "  'expiry date': '20/JUNE/22',\n",
              "  'product': 'cake',\n",
              "  'quantity': 45},\n",
              " 1002: {'Price': 15,\n",
              "  'discount': 3,\n",
              "  'expiry date': '20/JUNE/23',\n",
              "  'product': 'Munch',\n",
              "  'quantity': 40},\n",
              " 1003: {'Price': 75,\n",
              "  'discount': 6,\n",
              "  'expiry date': '20/JULY/23',\n",
              "  'product': 'cocola',\n",
              "  'quantity': 40},\n",
              " 1004: {'Price': 65,\n",
              "  'discount': 5,\n",
              "  'expiry date': '20/AUGUST/23',\n",
              "  'product': 'Fanta',\n",
              "  'quantity': 40},\n",
              " 1005: {'Price': 85,\n",
              "  'discount': 4,\n",
              "  'expiry date': '20/NOVEMBER/23',\n",
              "  'product': 'Pepsi',\n",
              "  'quantity': 40},\n",
              " 1006: {'Price': 30,\n",
              "  'discount': 5,\n",
              "  'expiry date': '20/DECEMBER/24',\n",
              "  'product': 'Biscuit',\n",
              "  'quantity': 40},\n",
              " 1007: {'Price': 40,\n",
              "  'discount': 5,\n",
              "  'expiry date': '20/JANUARY/24',\n",
              "  'product': 'Namkeen',\n",
              "  'quantity': 40},\n",
              " 1008: {'Price': 500,\n",
              "  'discount': 10,\n",
              "  'expiry date': '20/MARCH/24 ',\n",
              "  'product': 'Shirt',\n",
              "  'quantity': 40},\n",
              " 1009: {'Price': 320,\n",
              "  'discount': 5,\n",
              "  'expiry date': '20/SEPTEMBER/24',\n",
              "  'product': 'T-shirt',\n",
              "  'quantity': 40},\n",
              " 1010: {'Price': 25,\n",
              "  'discount': 5,\n",
              "  'expiry date': '20/OCTOBER/24',\n",
              "  'product': 'cold-Water',\n",
              "  'quantity': 40},\n",
              " 1011: {'Price': 85,\n",
              "  'discount': 2,\n",
              "  'expiry date': '30/JUNE/24',\n",
              "  'product': 'Dew',\n",
              "  'quantity': 40},\n",
              " 1012: {'Price': 95,\n",
              "  'discount': 15,\n",
              "  'expiry date': '20/JULY/24 ',\n",
              "  'product': 'Maza',\n",
              "  'quantity': 40},\n",
              " 1013: {'Price': 750,\n",
              "  'discount': 20,\n",
              "  'expiry date': '20/AUGUST/24 ',\n",
              "  'product': \"Men's Jeans\",\n",
              "  'quantity': 80},\n",
              " 1014: {'Price': 850,\n",
              "  'discount': 20,\n",
              "  'expiry date': '20/FEBRUARY/22 ',\n",
              "  'product': 'Ladies-Jeans',\n",
              "  'quantity': 80},\n",
              " 1015: {'Price': 500,\n",
              "  'discount': 10,\n",
              "  'expiry date': '18/DECEMBER/28 ',\n",
              "  'product': 'Kurta',\n",
              "  'quantity': 70},\n",
              " 1016: {'Price': 150,\n",
              "  'discount': 3,\n",
              "  'expiry date': '20/OCTOBER/28',\n",
              "  'product': 'Cap',\n",
              "  'quantity': 45},\n",
              " 1017: {'Price': 150,\n",
              "  'discount': 5,\n",
              "  'expiry date': '20/JULY/29',\n",
              "  'product': 'Sleeper',\n",
              "  'quantity': 40},\n",
              " 1018: {'Price': 2000,\n",
              "  'discount': 10,\n",
              "  'expiry date': '20/JUNE/29',\n",
              "  'product': 'Table',\n",
              "  'quantity': 25},\n",
              " 1019: {'Price': 500,\n",
              "  'discount': 10,\n",
              "  'expiry date': '20/APRIL/29',\n",
              "  'product': 'Chair',\n",
              "  'quantity': 30},\n",
              " 1020: {'Price': 5500,\n",
              "  'discount': 10,\n",
              "  'expiry date': '20/SEPTEMBER/30',\n",
              "  'product': 'Almirah',\n",
              "  'quantity': 30},\n",
              " 1021: {'Price': 550,\n",
              "  'discount': 5,\n",
              "  'expiry date': '20/OCTOBER/30 ',\n",
              "  'product': 'Keyboard',\n",
              "  'quantity': 70},\n",
              " 1022: {'Price': 250,\n",
              "  'discount': 10,\n",
              "  'expiry date': '20/NOVEMBER/25 ',\n",
              "  'product': 'Mouse',\n",
              "  'quantity': 70},\n",
              " 1023: {'Price': 56000,\n",
              "  'discount': 20,\n",
              "  'expiry date': '20/JULY/30',\n",
              "  'product': 'Laptop',\n",
              "  'quantity': 20},\n",
              " 1024: {'Price': 25000,\n",
              "  'discount': 10,\n",
              "  'expiry date': '20/JUNE/28',\n",
              "  'product': 'Desktop',\n",
              "  'quantity': 20},\n",
              " 1025: {'Price': 250,\n",
              "  'discount': 3,\n",
              "  'expiry date': '20/APRIL/24',\n",
              "  'product': 'Bottle',\n",
              "  'quantity': 40},\n",
              " 1026: {'Price': 8000,\n",
              "  'discount': 20,\n",
              "  'expiry date': '20/MARCH/25',\n",
              "  'product': 'Cooler',\n",
              "  'quantity': 28},\n",
              " 1027: {'Price': 25000,\n",
              "  'discount': 10,\n",
              "  'expiry date': '20/FEBRUARY/31',\n",
              "  'product': 'AC',\n",
              "  'quantity': 30},\n",
              " 1028: {'Price': 1500,\n",
              "  'discount': 10,\n",
              "  'expiry date': '20/JULY/29 ',\n",
              "  'product': 'Bag',\n",
              "  'quantity': 40},\n",
              " 1029: {'Price': 2400,\n",
              "  'discount': 10,\n",
              "  'expiry date': '20/DECEMBER/30',\n",
              "  'product': 'Fan',\n",
              "  'quantity': 20},\n",
              " 1030: {'Price': 20000,\n",
              "  'discount': 10,\n",
              "  'expiry date': '20/DECEMBER/30',\n",
              "  'product': 'Fridge',\n",
              "  'quantity': 15}}"
            ]
          },
          "metadata": {},
          "execution_count": 62
        }
      ]
    },
    {
      "cell_type": "code",
      "metadata": {
        "id": "CPLRgKt2qup-"
      },
      "source": [
        "import json"
      ],
      "execution_count": null,
      "outputs": []
    },
    {
      "cell_type": "code",
      "metadata": {
        "id": "OYtwofZMrClj"
      },
      "source": [
        "js = json.dumps(record)"
      ],
      "execution_count": null,
      "outputs": []
    },
    {
      "cell_type": "code",
      "metadata": {
        "colab": {
          "base_uri": "https://localhost:8080/",
          "height": 136
        },
        "id": "XazQEmFirKUt",
        "outputId": "043ddd03-4cd9-4177-a4bb-ab2479fbe553"
      },
      "source": [
        "js"
      ],
      "execution_count": null,
      "outputs": [
        {
          "output_type": "execute_result",
          "data": {
            "application/vnd.google.colaboratory.intrinsic+json": {
              "type": "string"
            },
            "text/plain": [
              "'{\"1001\": {\"product\": \"cake\", \"Price\": 250, \"quantity\": 45, \"discount\": 5, \"expiry date\": \"20/JUNE/22\"}, \"1002\": {\"product\": \"Munch\", \"Price\": 15, \"quantity\": 40, \"discount\": 3, \"expiry date\": \"20/JUNE/23\"}, \"1003\": {\"product\": \"cocola\", \"Price\": 75, \"quantity\": 40, \"discount\": 6, \"expiry date\": \"20/JULY/23\"}, \"1004\": {\"product\": \"Fanta\", \"Price\": 65, \"quantity\": 40, \"discount\": 5, \"expiry date\": \"20/AUGUST/23\"}, \"1005\": {\"product\": \"Pepsi\", \"Price\": 85, \"quantity\": 40, \"discount\": 4, \"expiry date\": \"20/NOVEMBER/23\"}, \"1006\": {\"product\": \"Biscuit\", \"Price\": 30, \"quantity\": 40, \"discount\": 5, \"expiry date\": \"20/DECEMBER/24\"}, \"1007\": {\"product\": \"Namkeen\", \"Price\": 40, \"quantity\": 40, \"discount\": 5, \"expiry date\": \"20/JANUARY/24\"}, \"1008\": {\"product\": \"Shirt\", \"Price\": 500, \"quantity\": 40, \"discount\": 10, \"expiry date\": \"20/MARCH/24 \"}, \"1009\": {\"product\": \"T-shirt\", \"Price\": 320, \"quantity\": 40, \"discount\": 5, \"expiry date\": \"20/SEPTEMBER/24\"}, \"1010\": {\"product\": \"cold-Water\", \"Price\": 25, \"quantity\": 40, \"discount\": 5, \"expiry date\": \"20/OCTOBER/24\"}, \"1011\": {\"product\": \"Dew\", \"Price\": 85, \"quantity\": 40, \"discount\": 2, \"expiry date\": \"30/JUNE/24\"}, \"1012\": {\"product\": \"Maza\", \"Price\": 95, \"quantity\": 40, \"discount\": 15, \"expiry date\": \"20/JULY/24 \"}, \"1013\": {\"product\": \"Men\\'s Jeans\", \"Price\": 750, \"quantity\": 80, \"discount\": 20, \"expiry date\": \"20/AUGUST/24 \"}, \"1014\": {\"product\": \"Ladies-Jeans\", \"Price\": 850, \"quantity\": 80, \"discount\": 20, \"expiry date\": \"20/FEBRUARY/22 \"}, \"1015\": {\"product\": \"Kurta\", \"Price\": 500, \"quantity\": 70, \"discount\": 10, \"expiry date\": \"18/DECEMBER/28 \"}, \"1016\": {\"product\": \"Cap\", \"Price\": 150, \"quantity\": 45, \"discount\": 3, \"expiry date\": \"20/OCTOBER/28\"}, \"1017\": {\"product\": \"Sleeper\", \"Price\": 150, \"quantity\": 40, \"discount\": 5, \"expiry date\": \"20/JULY/29\"}, \"1018\": {\"product\": \"Table\", \"Price\": 2000, \"quantity\": 25, \"discount\": 10, \"expiry date\": \"20/JUNE/29\"}, \"1019\": {\"product\": \"Chair\", \"Price\": 500, \"quantity\": 30, \"discount\": 10, \"expiry date\": \"20/APRIL/29\"}, \"1020\": {\"product\": \"Almirah\", \"Price\": 5500, \"quantity\": 30, \"discount\": 10, \"expiry date\": \"20/SEPTEMBER/30\"}, \"1021\": {\"product\": \"Keyboard\", \"Price\": 550, \"quantity\": 70, \"discount\": 5, \"expiry date\": \"20/OCTOBER/30 \"}, \"1022\": {\"product\": \"Mouse\", \"Price\": 250, \"quantity\": 70, \"discount\": 10, \"expiry date\": \"20/NOVEMBER/25 \"}, \"1023\": {\"product\": \"Laptop\", \"Price\": 56000, \"quantity\": 20, \"discount\": 20, \"expiry date\": \"20/JULY/30\"}, \"1024\": {\"product\": \"Desktop\", \"Price\": 25000, \"quantity\": 20, \"discount\": 10, \"expiry date\": \"20/JUNE/28\"}, \"1025\": {\"product\": \"Bottle\", \"Price\": 250, \"quantity\": 40, \"discount\": 3, \"expiry date\": \"20/APRIL/24\"}, \"1026\": {\"product\": \"Cooler\", \"Price\": 8000, \"quantity\": 28, \"discount\": 20, \"expiry date\": \"20/MARCH/25\"}, \"1027\": {\"product\": \"AC\", \"Price\": 25000, \"quantity\": 30, \"discount\": 10, \"expiry date\": \"20/FEBRUARY/31\"}, \"1028\": {\"product\": \"Bag\", \"Price\": 1500, \"quantity\": 40, \"discount\": 10, \"expiry date\": \"20/JULY/29 \"}, \"1029\": {\"product\": \"Fan\", \"Price\": 2400, \"quantity\": 20, \"discount\": 10, \"expiry date\": \"20/DECEMBER/30\"}, \"1030\": {\"product\": \"Fridge\", \"Price\": 20000, \"quantity\": 15, \"discount\": 10, \"expiry date\": \"20/DECEMBER/30\"}}'"
            ]
          },
          "metadata": {},
          "execution_count": 65
        }
      ]
    },
    {
      "cell_type": "code",
      "metadata": {
        "colab": {
          "base_uri": "https://localhost:8080/"
        },
        "id": "cieprvDtrLdN",
        "outputId": "53a5e68b-6bc2-422d-888b-44b92f8f7bdc"
      },
      "source": [
        "type(js)"
      ],
      "execution_count": null,
      "outputs": [
        {
          "output_type": "execute_result",
          "data": {
            "text/plain": [
              "str"
            ]
          },
          "metadata": {},
          "execution_count": 66
        }
      ]
    },
    {
      "cell_type": "code",
      "metadata": {
        "id": "Iao2TjYmrRas"
      },
      "source": [
        "fd=open(\"record.json\",'w')\n",
        "fd.write(js)\n",
        "fd.close()"
      ],
      "execution_count": null,
      "outputs": []
    },
    {
      "cell_type": "code",
      "metadata": {
        "id": "p7NnHZM6ri_l",
        "colab": {
          "base_uri": "https://localhost:8080/"
        },
        "outputId": "87b577af-68af-497b-9d2a-02207d988966"
      },
      "source": [
        "for i in record:\n",
        "  print(i)"
      ],
      "execution_count": null,
      "outputs": [
        {
          "output_type": "stream",
          "name": "stdout",
          "text": [
            "1001\n",
            "1002\n",
            "1003\n",
            "1004\n",
            "1005\n",
            "1006\n",
            "1007\n",
            "1008\n",
            "1009\n",
            "1010\n",
            "1011\n",
            "1012\n",
            "1013\n",
            "1014\n",
            "1015\n",
            "1016\n",
            "1017\n",
            "1018\n",
            "1019\n",
            "1020\n",
            "1021\n",
            "1022\n",
            "1023\n",
            "1024\n",
            "1025\n",
            "1026\n",
            "1027\n",
            "1028\n",
            "1029\n",
            "1030\n"
          ]
        }
      ]
    },
    {
      "cell_type": "code",
      "metadata": {
        "id": "uBuCPyQkuYOX"
      },
      "source": [
        "fd = open(\"record.json\", 'r')\n",
        "txt = fd.read()\n",
        "fd.close()"
      ],
      "execution_count": null,
      "outputs": []
    },
    {
      "cell_type": "code",
      "metadata": {
        "colab": {
          "base_uri": "https://localhost:8080/",
          "height": 136
        },
        "id": "8RS0Qv6au1ix",
        "outputId": "fd679bfb-c659-4984-f8ba-33a4d0abb337"
      },
      "source": [
        "txt"
      ],
      "execution_count": null,
      "outputs": [
        {
          "output_type": "execute_result",
          "data": {
            "application/vnd.google.colaboratory.intrinsic+json": {
              "type": "string"
            },
            "text/plain": [
              "'{\"1001\": {\"product\": \"cake\", \"Price\": 250, \"quantity\": 45, \"discount\": 5, \"expiry date\": \"20/JUNE/22\"}, \"1002\": {\"product\": \"Munch\", \"Price\": 15, \"quantity\": 40, \"discount\": 3, \"expiry date\": \"20/JUNE/23\"}, \"1003\": {\"product\": \"cocola\", \"Price\": 75, \"quantity\": 40, \"discount\": 6, \"expiry date\": \"20/JULY/23\"}, \"1004\": {\"product\": \"Fanta\", \"Price\": 65, \"quantity\": 40, \"discount\": 5, \"expiry date\": \"20/AUGUST/23\"}, \"1005\": {\"product\": \"Pepsi\", \"Price\": 85, \"quantity\": 40, \"discount\": 4, \"expiry date\": \"20/NOVEMBER/23\"}, \"1006\": {\"product\": \"Biscuit\", \"Price\": 30, \"quantity\": 40, \"discount\": 5, \"expiry date\": \"20/DECEMBER/24\"}, \"1007\": {\"product\": \"Namkeen\", \"Price\": 40, \"quantity\": 40, \"discount\": 5, \"expiry date\": \"20/JANUARY/24\"}, \"1008\": {\"product\": \"Shirt\", \"Price\": 500, \"quantity\": 40, \"discount\": 10, \"expiry date\": \"20/MARCH/24 \"}, \"1009\": {\"product\": \"T-shirt\", \"Price\": 320, \"quantity\": 40, \"discount\": 5, \"expiry date\": \"20/SEPTEMBER/24\"}, \"1010\": {\"product\": \"cold-Water\", \"Price\": 25, \"quantity\": 40, \"discount\": 5, \"expiry date\": \"20/OCTOBER/24\"}, \"1011\": {\"product\": \"Dew\", \"Price\": 85, \"quantity\": 40, \"discount\": 2, \"expiry date\": \"30/JUNE/24\"}, \"1012\": {\"product\": \"Maza\", \"Price\": 95, \"quantity\": 40, \"discount\": 15, \"expiry date\": \"20/JULY/24 \"}, \"1013\": {\"product\": \"Men\\'s Jeans\", \"Price\": 750, \"quantity\": 80, \"discount\": 20, \"expiry date\": \"20/AUGUST/24 \"}, \"1014\": {\"product\": \"Ladies-Jeans\", \"Price\": 850, \"quantity\": 80, \"discount\": 20, \"expiry date\": \"20/FEBRUARY/22 \"}, \"1015\": {\"product\": \"Kurta\", \"Price\": 500, \"quantity\": 70, \"discount\": 10, \"expiry date\": \"18/DECEMBER/28 \"}, \"1016\": {\"product\": \"Cap\", \"Price\": 150, \"quantity\": 45, \"discount\": 3, \"expiry date\": \"20/OCTOBER/28\"}, \"1017\": {\"product\": \"Sleeper\", \"Price\": 150, \"quantity\": 40, \"discount\": 5, \"expiry date\": \"20/JULY/29\"}, \"1018\": {\"product\": \"Table\", \"Price\": 2000, \"quantity\": 25, \"discount\": 10, \"expiry date\": \"20/JUNE/29\"}, \"1019\": {\"product\": \"Chair\", \"Price\": 500, \"quantity\": 30, \"discount\": 10, \"expiry date\": \"20/APRIL/29\"}, \"1020\": {\"product\": \"Almirah\", \"Price\": 5500, \"quantity\": 30, \"discount\": 10, \"expiry date\": \"20/SEPTEMBER/30\"}, \"1021\": {\"product\": \"Keyboard\", \"Price\": 550, \"quantity\": 70, \"discount\": 5, \"expiry date\": \"20/OCTOBER/30 \"}, \"1022\": {\"product\": \"Mouse\", \"Price\": 250, \"quantity\": 70, \"discount\": 10, \"expiry date\": \"20/NOVEMBER/25 \"}, \"1023\": {\"product\": \"Laptop\", \"Price\": 56000, \"quantity\": 20, \"discount\": 20, \"expiry date\": \"20/JULY/30\"}, \"1024\": {\"product\": \"Desktop\", \"Price\": 25000, \"quantity\": 20, \"discount\": 10, \"expiry date\": \"20/JUNE/28\"}, \"1025\": {\"product\": \"Bottle\", \"Price\": 250, \"quantity\": 40, \"discount\": 3, \"expiry date\": \"20/APRIL/24\"}, \"1026\": {\"product\": \"Cooler\", \"Price\": 8000, \"quantity\": 28, \"discount\": 20, \"expiry date\": \"20/MARCH/25\"}, \"1027\": {\"product\": \"AC\", \"Price\": 25000, \"quantity\": 30, \"discount\": 10, \"expiry date\": \"20/FEBRUARY/31\"}, \"1028\": {\"product\": \"Bag\", \"Price\": 1500, \"quantity\": 40, \"discount\": 10, \"expiry date\": \"20/JULY/29 \"}, \"1029\": {\"product\": \"Fan\", \"Price\": 2400, \"quantity\": 20, \"discount\": 10, \"expiry date\": \"20/DECEMBER/30\"}, \"1030\": {\"product\": \"Fridge\", \"Price\": 20000, \"quantity\": 15, \"discount\": 10, \"expiry date\": \"20/DECEMBER/30\"}}'"
            ]
          },
          "metadata": {},
          "execution_count": 70
        }
      ]
    },
    {
      "cell_type": "code",
      "metadata": {
        "id": "Ikk2KPknwfHO"
      },
      "source": [
        "record = json.loads(txt)"
      ],
      "execution_count": null,
      "outputs": []
    },
    {
      "cell_type": "code",
      "metadata": {
        "colab": {
          "base_uri": "https://localhost:8080/"
        },
        "id": "dWXQiErrxAsN",
        "outputId": "a72e114c-3722-4a0b-855a-410d96835f11"
      },
      "source": [
        "record"
      ],
      "execution_count": null,
      "outputs": [
        {
          "output_type": "execute_result",
          "data": {
            "text/plain": [
              "{'1001': {'Price': 250,\n",
              "  'discount': 5,\n",
              "  'expiry date': '20/JUNE/22',\n",
              "  'product': 'cake',\n",
              "  'quantity': 45},\n",
              " '1002': {'Price': 15,\n",
              "  'discount': 3,\n",
              "  'expiry date': '20/JUNE/23',\n",
              "  'product': 'Munch',\n",
              "  'quantity': 40},\n",
              " '1003': {'Price': 75,\n",
              "  'discount': 6,\n",
              "  'expiry date': '20/JULY/23',\n",
              "  'product': 'cocola',\n",
              "  'quantity': 40},\n",
              " '1004': {'Price': 65,\n",
              "  'discount': 5,\n",
              "  'expiry date': '20/AUGUST/23',\n",
              "  'product': 'Fanta',\n",
              "  'quantity': 40},\n",
              " '1005': {'Price': 85,\n",
              "  'discount': 4,\n",
              "  'expiry date': '20/NOVEMBER/23',\n",
              "  'product': 'Pepsi',\n",
              "  'quantity': 40},\n",
              " '1006': {'Price': 30,\n",
              "  'discount': 5,\n",
              "  'expiry date': '20/DECEMBER/24',\n",
              "  'product': 'Biscuit',\n",
              "  'quantity': 40},\n",
              " '1007': {'Price': 40,\n",
              "  'discount': 5,\n",
              "  'expiry date': '20/JANUARY/24',\n",
              "  'product': 'Namkeen',\n",
              "  'quantity': 40},\n",
              " '1008': {'Price': 500,\n",
              "  'discount': 10,\n",
              "  'expiry date': '20/MARCH/24 ',\n",
              "  'product': 'Shirt',\n",
              "  'quantity': 40},\n",
              " '1009': {'Price': 320,\n",
              "  'discount': 5,\n",
              "  'expiry date': '20/SEPTEMBER/24',\n",
              "  'product': 'T-shirt',\n",
              "  'quantity': 40},\n",
              " '1010': {'Price': 25,\n",
              "  'discount': 5,\n",
              "  'expiry date': '20/OCTOBER/24',\n",
              "  'product': 'cold-Water',\n",
              "  'quantity': 40},\n",
              " '1011': {'Price': 85,\n",
              "  'discount': 2,\n",
              "  'expiry date': '30/JUNE/24',\n",
              "  'product': 'Dew',\n",
              "  'quantity': 40},\n",
              " '1012': {'Price': 95,\n",
              "  'discount': 15,\n",
              "  'expiry date': '20/JULY/24 ',\n",
              "  'product': 'Maza',\n",
              "  'quantity': 40},\n",
              " '1013': {'Price': 750,\n",
              "  'discount': 20,\n",
              "  'expiry date': '20/AUGUST/24 ',\n",
              "  'product': \"Men's Jeans\",\n",
              "  'quantity': 80},\n",
              " '1014': {'Price': 850,\n",
              "  'discount': 20,\n",
              "  'expiry date': '20/FEBRUARY/22 ',\n",
              "  'product': 'Ladies-Jeans',\n",
              "  'quantity': 80},\n",
              " '1015': {'Price': 500,\n",
              "  'discount': 10,\n",
              "  'expiry date': '18/DECEMBER/28 ',\n",
              "  'product': 'Kurta',\n",
              "  'quantity': 70},\n",
              " '1016': {'Price': 150,\n",
              "  'discount': 3,\n",
              "  'expiry date': '20/OCTOBER/28',\n",
              "  'product': 'Cap',\n",
              "  'quantity': 45},\n",
              " '1017': {'Price': 150,\n",
              "  'discount': 5,\n",
              "  'expiry date': '20/JULY/29',\n",
              "  'product': 'Sleeper',\n",
              "  'quantity': 40},\n",
              " '1018': {'Price': 2000,\n",
              "  'discount': 10,\n",
              "  'expiry date': '20/JUNE/29',\n",
              "  'product': 'Table',\n",
              "  'quantity': 25},\n",
              " '1019': {'Price': 500,\n",
              "  'discount': 10,\n",
              "  'expiry date': '20/APRIL/29',\n",
              "  'product': 'Chair',\n",
              "  'quantity': 30},\n",
              " '1020': {'Price': 5500,\n",
              "  'discount': 10,\n",
              "  'expiry date': '20/SEPTEMBER/30',\n",
              "  'product': 'Almirah',\n",
              "  'quantity': 30},\n",
              " '1021': {'Price': 550,\n",
              "  'discount': 5,\n",
              "  'expiry date': '20/OCTOBER/30 ',\n",
              "  'product': 'Keyboard',\n",
              "  'quantity': 70},\n",
              " '1022': {'Price': 250,\n",
              "  'discount': 10,\n",
              "  'expiry date': '20/NOVEMBER/25 ',\n",
              "  'product': 'Mouse',\n",
              "  'quantity': 70},\n",
              " '1023': {'Price': 56000,\n",
              "  'discount': 20,\n",
              "  'expiry date': '20/JULY/30',\n",
              "  'product': 'Laptop',\n",
              "  'quantity': 20},\n",
              " '1024': {'Price': 25000,\n",
              "  'discount': 10,\n",
              "  'expiry date': '20/JUNE/28',\n",
              "  'product': 'Desktop',\n",
              "  'quantity': 20},\n",
              " '1025': {'Price': 250,\n",
              "  'discount': 3,\n",
              "  'expiry date': '20/APRIL/24',\n",
              "  'product': 'Bottle',\n",
              "  'quantity': 40},\n",
              " '1026': {'Price': 8000,\n",
              "  'discount': 20,\n",
              "  'expiry date': '20/MARCH/25',\n",
              "  'product': 'Cooler',\n",
              "  'quantity': 28},\n",
              " '1027': {'Price': 25000,\n",
              "  'discount': 10,\n",
              "  'expiry date': '20/FEBRUARY/31',\n",
              "  'product': 'AC',\n",
              "  'quantity': 30},\n",
              " '1028': {'Price': 1500,\n",
              "  'discount': 10,\n",
              "  'expiry date': '20/JULY/29 ',\n",
              "  'product': 'Bag',\n",
              "  'quantity': 40},\n",
              " '1029': {'Price': 2400,\n",
              "  'discount': 10,\n",
              "  'expiry date': '20/DECEMBER/30',\n",
              "  'product': 'Fan',\n",
              "  'quantity': 20},\n",
              " '1030': {'Price': 20000,\n",
              "  'discount': 10,\n",
              "  'expiry date': '20/DECEMBER/30',\n",
              "  'product': 'Fridge',\n",
              "  'quantity': 15}}"
            ]
          },
          "metadata": {},
          "execution_count": 72
        }
      ]
    },
    {
      "cell_type": "markdown",
      "metadata": {
        "id": "jio3XX5DE0qB"
      },
      "source": [
        "***Update the product***"
      ]
    },
    {
      "cell_type": "code",
      "metadata": {
        "colab": {
          "base_uri": "https://localhost:8080/"
        },
        "id": "TffNk4SMxCky",
        "outputId": "87aa9d3a-c3fc-407d-c233-f2b885578bbd"
      },
      "source": [
        "prod_id = str(input(\"Enter product id:\"))\n",
        "product = str(input(\"Enter product:\"))\n",
        "Price = int(input(\"Enter price:\"))\n",
        "quantity = int(input(\"Enter quantity:\"))\n",
        "discount = int(input(\"Enter discount:\"))\n",
        "\n",
        "record[prod_id] = {'product': product, 'Price': Price,'quantity': quantity, 'discount': discount}\n",
        "js = json.dumps(record)\n",
        "fd = open(\"record.json\", 'w')\n",
        "fd.write(js)\n",
        "fd.close()"
      ],
      "execution_count": null,
      "outputs": [
        {
          "name": "stdout",
          "output_type": "stream",
          "text": [
            "Enter product id:1002\n",
            "Enter product:2\n",
            "Enter price:5\n",
            "Enter quantity:6\n",
            "Enter discount:5\n"
          ]
        }
      ]
    },
    {
      "cell_type": "code",
      "metadata": {
        "id": "s9hByQ65xzq6",
        "colab": {
          "base_uri": "https://localhost:8080/"
        },
        "outputId": "9f5fca53-d011-4a8b-82cd-10166a8d9130"
      },
      "source": [
        "record"
      ],
      "execution_count": null,
      "outputs": [
        {
          "output_type": "execute_result",
          "data": {
            "text/plain": [
              "{'1001': {'Price': 250,\n",
              "  'discount': 5,\n",
              "  'expiry date': '20/JUNE/22',\n",
              "  'product': 'cake',\n",
              "  'quantity': 45},\n",
              " '1002': {'Price': 5, 'discount': 5, 'product': '2', 'quantity': 6},\n",
              " '1003': {'Price': 75,\n",
              "  'discount': 6,\n",
              "  'expiry date': '20/JULY/23',\n",
              "  'product': 'cocola',\n",
              "  'quantity': 40},\n",
              " '1004': {'Price': 65,\n",
              "  'discount': 5,\n",
              "  'expiry date': '20/AUGUST/23',\n",
              "  'product': 'Fanta',\n",
              "  'quantity': 40},\n",
              " '1005': {'Price': 85,\n",
              "  'discount': 4,\n",
              "  'expiry date': '20/NOVEMBER/23',\n",
              "  'product': 'Pepsi',\n",
              "  'quantity': 40},\n",
              " '1006': {'Price': 30,\n",
              "  'discount': 5,\n",
              "  'expiry date': '20/DECEMBER/24',\n",
              "  'product': 'Biscuit',\n",
              "  'quantity': 40},\n",
              " '1007': {'Price': 40,\n",
              "  'discount': 5,\n",
              "  'expiry date': '20/JANUARY/24',\n",
              "  'product': 'Namkeen',\n",
              "  'quantity': 40},\n",
              " '1008': {'Price': 500,\n",
              "  'discount': 10,\n",
              "  'expiry date': '20/MARCH/24 ',\n",
              "  'product': 'Shirt',\n",
              "  'quantity': 40},\n",
              " '1009': {'Price': 320,\n",
              "  'discount': 5,\n",
              "  'expiry date': '20/SEPTEMBER/24',\n",
              "  'product': 'T-shirt',\n",
              "  'quantity': 40},\n",
              " '1010': {'Price': 25,\n",
              "  'discount': 5,\n",
              "  'expiry date': '20/OCTOBER/24',\n",
              "  'product': 'cold-Water',\n",
              "  'quantity': 40},\n",
              " '1011': {'Price': 85,\n",
              "  'discount': 2,\n",
              "  'expiry date': '30/JUNE/24',\n",
              "  'product': 'Dew',\n",
              "  'quantity': 40},\n",
              " '1012': {'Price': 95,\n",
              "  'discount': 15,\n",
              "  'expiry date': '20/JULY/24 ',\n",
              "  'product': 'Maza',\n",
              "  'quantity': 40},\n",
              " '1013': {'Price': 750,\n",
              "  'discount': 20,\n",
              "  'expiry date': '20/AUGUST/24 ',\n",
              "  'product': \"Men's Jeans\",\n",
              "  'quantity': 80},\n",
              " '1014': {'Price': 850,\n",
              "  'discount': 20,\n",
              "  'expiry date': '20/FEBRUARY/22 ',\n",
              "  'product': 'Ladies-Jeans',\n",
              "  'quantity': 80},\n",
              " '1015': {'Price': 500,\n",
              "  'discount': 10,\n",
              "  'expiry date': '18/DECEMBER/28 ',\n",
              "  'product': 'Kurta',\n",
              "  'quantity': 70},\n",
              " '1016': {'Price': 150,\n",
              "  'discount': 3,\n",
              "  'expiry date': '20/OCTOBER/28',\n",
              "  'product': 'Cap',\n",
              "  'quantity': 45},\n",
              " '1017': {'Price': 150,\n",
              "  'discount': 5,\n",
              "  'expiry date': '20/JULY/29',\n",
              "  'product': 'Sleeper',\n",
              "  'quantity': 40},\n",
              " '1018': {'Price': 2000,\n",
              "  'discount': 10,\n",
              "  'expiry date': '20/JUNE/29',\n",
              "  'product': 'Table',\n",
              "  'quantity': 25},\n",
              " '1019': {'Price': 500,\n",
              "  'discount': 10,\n",
              "  'expiry date': '20/APRIL/29',\n",
              "  'product': 'Chair',\n",
              "  'quantity': 30},\n",
              " '1020': {'Price': 5500,\n",
              "  'discount': 10,\n",
              "  'expiry date': '20/SEPTEMBER/30',\n",
              "  'product': 'Almirah',\n",
              "  'quantity': 30},\n",
              " '1021': {'Price': 550,\n",
              "  'discount': 5,\n",
              "  'expiry date': '20/OCTOBER/30 ',\n",
              "  'product': 'Keyboard',\n",
              "  'quantity': 70},\n",
              " '1022': {'Price': 250,\n",
              "  'discount': 10,\n",
              "  'expiry date': '20/NOVEMBER/25 ',\n",
              "  'product': 'Mouse',\n",
              "  'quantity': 70},\n",
              " '1023': {'Price': 56000,\n",
              "  'discount': 20,\n",
              "  'expiry date': '20/JULY/30',\n",
              "  'product': 'Laptop',\n",
              "  'quantity': 20},\n",
              " '1024': {'Price': 25000,\n",
              "  'discount': 10,\n",
              "  'expiry date': '20/JUNE/28',\n",
              "  'product': 'Desktop',\n",
              "  'quantity': 20},\n",
              " '1025': {'Price': 250,\n",
              "  'discount': 3,\n",
              "  'expiry date': '20/APRIL/24',\n",
              "  'product': 'Bottle',\n",
              "  'quantity': 40},\n",
              " '1026': {'Price': 8000,\n",
              "  'discount': 20,\n",
              "  'expiry date': '20/MARCH/25',\n",
              "  'product': 'Cooler',\n",
              "  'quantity': 28},\n",
              " '1027': {'Price': 25000,\n",
              "  'discount': 10,\n",
              "  'expiry date': '20/FEBRUARY/31',\n",
              "  'product': 'AC',\n",
              "  'quantity': 30},\n",
              " '1028': {'Price': 1500,\n",
              "  'discount': 10,\n",
              "  'expiry date': '20/JULY/29 ',\n",
              "  'product': 'Bag',\n",
              "  'quantity': 40},\n",
              " '1029': {'Price': 2400,\n",
              "  'discount': 10,\n",
              "  'expiry date': '20/DECEMBER/30',\n",
              "  'product': 'Fan',\n",
              "  'quantity': 20},\n",
              " '1030': {'Price': 20000,\n",
              "  'discount': 10,\n",
              "  'expiry date': '20/DECEMBER/30',\n",
              "  'product': 'Fridge',\n",
              "  'quantity': 15}}"
            ]
          },
          "metadata": {},
          "execution_count": 74
        }
      ]
    },
    {
      "cell_type": "markdown",
      "metadata": {
        "id": "gcdGga-LFMc1"
      },
      "source": [
        ""
      ]
    },
    {
      "cell_type": "code",
      "metadata": {
        "id": "mz4wELCNlSra"
      },
      "source": [
        "import time"
      ],
      "execution_count": null,
      "outputs": []
    },
    {
      "cell_type": "code",
      "metadata": {
        "id": "vw1HDw82lb9-"
      },
      "source": [
        "\n",
        "t = time.ctime()"
      ],
      "execution_count": null,
      "outputs": []
    },
    {
      "cell_type": "code",
      "metadata": {
        "colab": {
          "base_uri": "https://localhost:8080/",
          "height": 35
        },
        "id": "O0o7By7dlhU5",
        "outputId": "bcb3c9de-97ff-4c35-c985-ca64c1361a29"
      },
      "source": [
        "t"
      ],
      "execution_count": null,
      "outputs": [
        {
          "output_type": "execute_result",
          "data": {
            "application/vnd.google.colaboratory.intrinsic+json": {
              "type": "string"
            },
            "text/plain": [
              "'Mon Sep  6 05:30:19 2021'"
            ]
          },
          "metadata": {},
          "execution_count": 84
        }
      ]
    },
    {
      "cell_type": "markdown",
      "metadata": {
        "id": "CccLtFFDFDoN"
      },
      "source": [
        "***Total Billing Amount after Purchase***"
      ]
    },
    {
      "cell_type": "code",
      "metadata": {
        "colab": {
          "base_uri": "https://localhost:8080/"
        },
        "id": "SkGn-Rat2RNe",
        "outputId": "721e5946-5427-410f-bed7-8c35863d92e0"
      },
      "source": [
        "ui_prod  = str(input(\"Enter the product_Id: \"))\n",
        "ui_quant = int(input(\"Enter the quantity: \"))\n",
        "print(\"-------------------------------------------------\")\n",
        "print(\"**********WELCOME TO OUR SHOP**********\")\n",
        "print(\"-------------------------------------------------\")\n",
        "print(\"<------------Customer Bill---------------->\")\n",
        "print(\"__________________________________________________\")\n",
        "print(\"Product: \", record[ui_prod]['product'])\n",
        "print(\"Price: \", record[ui_prod]['Price'],\"/-\")\n",
        "print(\"discount\", record[ui_prod]['discount'],\"%\")\n",
        "print(\"expiry date\", record[ui_prod]['expiry date'])\n",
        "import time\n",
        "t = time.ctime()\n",
        "print(\"Date and time is::\",  t)\n",
        "print(\"**************************************************\")\n",
        "print(\"Billing Amount: \", (record[ui_prod]['Price'] -  record[ui_prod]['Price']*discount/100)*ui_quant ,\"/-\") \n",
        "print(\"Total in Rupees\")\n",
        "print(\"****************************************************\")\n",
        "print(\"Thanks for Visit\")\n",
        "record[ui_prod]['quantity'] = record[ui_prod]['quantity'] - ui_quant"
      ],
      "execution_count": 102,
      "outputs": [
        {
          "output_type": "stream",
          "name": "stdout",
          "text": [
            "Enter the product_Id: 1005\n",
            "Enter the quantity: 5\n",
            "-------------------------------------------------\n",
            "**********WELCOME TO OUR SHOP**********\n",
            "-------------------------------------------------\n",
            "<------------Customer Bill---------------->\n",
            "__________________________________________________\n",
            "Product:  Pepsi\n",
            "Price:  85 /-\n",
            "discount 4 %\n",
            "expiry date 20/NOVEMBER/23\n",
            "Date and time is:: Mon Sep  6 06:12:23 2021\n",
            "**************************************************\n",
            "Billing Amount:  403.75 /-\n",
            "Total in Rupees\n",
            "****************************************************\n",
            "Thanks for Visit\n"
          ]
        }
      ]
    },
    {
      "cell_type": "code",
      "metadata": {
        "id": "JpkMhK2S3Rzt"
      },
      "source": [
        "js = json.dumps(record)\n",
        "fd = open(\"record.json\", 'w')\n",
        "fd.write(js)\n",
        "fd.close()"
      ],
      "execution_count": null,
      "outputs": []
    },
    {
      "cell_type": "markdown",
      "metadata": {
        "id": "_HtnogyUIcV7"
      },
      "source": [
        "Sales  Product\n"
      ]
    },
    {
      "cell_type": "code",
      "metadata": {
        "colab": {
          "base_uri": "https://localhost:8080/"
        },
        "id": "ckJ8y4ShHdm4",
        "outputId": "5fd7c58e-a78e-432b-f6ca-554f848c5d8d"
      },
      "source": [
        "{'Product': ui_prod, 'quantity': ui_quant, 'Billing Amount': record[ui_prod]['Price']*ui_quant - record[ui_prod]['Price'] * ui_quant*discount/100}"
      ],
      "execution_count": null,
      "outputs": [
        {
          "output_type": "execute_result",
          "data": {
            "text/plain": [
              "{'Billing Amount': 403.75, 'Product': '1005', 'quantity': 5}"
            ]
          },
          "metadata": {},
          "execution_count": 99
        }
      ]
    },
    {
      "cell_type": "code",
      "metadata": {
        "id": "rhI1vA5KIXfl"
      },
      "source": [
        ""
      ],
      "execution_count": null,
      "outputs": []
    }
  ]
}